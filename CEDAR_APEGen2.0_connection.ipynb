{
 "cells": [
  {
   "cell_type": "markdown",
   "id": "882b4899-6c2d-40df-9abd-b437652d95cc",
   "metadata": {},
   "source": [
    "# CONNECTING CEDAR with APE-Gen2.0"
   ]
  },
  {
   "cell_type": "markdown",
   "id": "43a3e131-c2f2-47c2-ad3e-2c5402807e16",
   "metadata": {},
   "source": [
    "In this workflow, we demonstrate an example on how to use APE-Gen2.0 with the CEDAR database in modeling T-cell epitopes. "
   ]
  },
  {
   "cell_type": "markdown",
   "id": "626ef9b8-918c-461c-b809-a002041865e9",
   "metadata": {},
   "source": [
    "First, making the necessary import to run the workflow:"
   ]
  },
  {
   "cell_type": "code",
   "execution_count": 9,
   "id": "f3292e60-a390-4acb-93a3-6beb9d97eedc",
   "metadata": {},
   "outputs": [
    {
     "data": {
      "application/vnd.jupyter.widget-view+json": {
       "model_id": "06b69a5e4a384fcf9310f2a83caa7c4d",
       "version_major": 2,
       "version_minor": 0
      },
      "text/plain": []
     },
     "metadata": {},
     "output_type": "display_data"
    }
   ],
   "source": [
    "import pandas as pd\n",
    "from subprocess import call\n",
    "import os\n",
    "import nglview"
   ]
  },
  {
   "cell_type": "markdown",
   "id": "f730726e-dcbe-4536-973a-ee8cfd1cdd6e",
   "metadata": {},
   "source": [
    "Download the Tcell epitope assay databased from CEDAR:"
   ]
  },
  {
   "cell_type": "code",
   "execution_count": null,
   "id": "2ff3b7d9-113d-4c3d-bac7-0164d4ab9ee6",
   "metadata": {},
   "outputs": [],
   "source": [
    "call(['wget', 'https://cedar.iedb.org/downloader.php?file_name=doc/tcell_full_v3.zip', '-O', 'tcell_assay.zip'])"
   ]
  },
  {
   "cell_type": "markdown",
   "id": "997c551e-3e0d-4438-9b69-7d01c045277d",
   "metadata": {},
   "source": [
    "Extract it here:"
   ]
  },
  {
   "cell_type": "code",
   "execution_count": 3,
   "id": "5671e8fb-bece-4e9d-a587-96ba577ec491",
   "metadata": {},
   "outputs": [
    {
     "data": {
      "text/plain": [
       "0"
      ]
     },
     "execution_count": 3,
     "metadata": {},
     "output_type": "execute_result"
    }
   ],
   "source": [
    "call(['gunzip', '-S', '.zip', 'tcell_assay.zip'])"
   ]
  },
  {
   "cell_type": "markdown",
   "id": "32789028-78ec-45f5-9705-97127ace9f6a",
   "metadata": {},
   "source": [
    "Now load it, and keep only the fields of interest:"
   ]
  },
  {
   "cell_type": "code",
   "execution_count": 4,
   "id": "987a1774-f52e-4fc2-9646-474fd584d86c",
   "metadata": {
    "scrolled": true
   },
   "outputs": [],
   "source": [
    "cedar_data = pd.read_csv(\"tcell_assay\", skiprows=1, low_memory=False)\n",
    "cedar_data = cedar_data[['Name.2', 'Object Type', 'Species', 'Molecule Parent', 'Name', 'Name.10', 'Class', 'Number of Subjects Tested', 'Response Frequency (%)']]\n",
    "cedar_data.columns = ['Organism', 'Epitope_type', 'Species', 'Molecule Parent', 'Epitope', 'MHC', 'MHC_Class', 'Number of Subjects Tested', 'Response Frequency (%)']"
   ]
  },
  {
   "cell_type": "markdown",
   "id": "87e4a2cf-99cb-44f6-9a61-1647051ed57b",
   "metadata": {},
   "source": [
    "### Main filtering process:\n",
    "\n",
    "In this step, you can select the parameters you need in order to filter the database with your selected parameters. As an example here, we are considering (a) Human, (b) Linear epitopes, from (c) Hepatitis B virus, with the number of subject tested for each epitope to be (d) larger than 10, and with (e) %100 success. We are doing this as we need a potent, potentially immunogenic candidate. \n",
    "\n",
    "As APE-Gen2.0 supports only class-I peptides, we filter out class-II MHCs."
   ]
  },
  {
   "cell_type": "code",
   "execution_count": 2,
   "id": "4cd93557-9078-4d83-ae4b-7f00031c3646",
   "metadata": {},
   "outputs": [
    {
     "ename": "NameError",
     "evalue": "name 'cedar_data' is not defined",
     "output_type": "error",
     "traceback": [
      "\u001b[0;31m---------------------------------------------------------------------------\u001b[0m",
      "\u001b[0;31mNameError\u001b[0m                                 Traceback (most recent call last)",
      "Cell \u001b[0;32mIn[2], line 1\u001b[0m\n\u001b[0;32m----> 1\u001b[0m cedar_data \u001b[38;5;241m=\u001b[39m \u001b[43mcedar_data\u001b[49m[cedar_data[\u001b[38;5;124m'\u001b[39m\u001b[38;5;124mOrganism\u001b[39m\u001b[38;5;124m'\u001b[39m] \u001b[38;5;241m==\u001b[39m \u001b[38;5;124m'\u001b[39m\u001b[38;5;124mHomo sapiens (human)\u001b[39m\u001b[38;5;124m'\u001b[39m]\n\u001b[1;32m      2\u001b[0m cedar_data \u001b[38;5;241m=\u001b[39m cedar_data[cedar_data[\u001b[38;5;124m'\u001b[39m\u001b[38;5;124mEpitope_type\u001b[39m\u001b[38;5;124m'\u001b[39m] \u001b[38;5;241m==\u001b[39m \u001b[38;5;124m'\u001b[39m\u001b[38;5;124mLinear peptide\u001b[39m\u001b[38;5;124m'\u001b[39m]\n\u001b[1;32m      3\u001b[0m cedar_data \u001b[38;5;241m=\u001b[39m cedar_data[cedar_data[\u001b[38;5;124m'\u001b[39m\u001b[38;5;124mSpecies\u001b[39m\u001b[38;5;124m'\u001b[39m] \u001b[38;5;241m==\u001b[39m \u001b[38;5;124m'\u001b[39m\u001b[38;5;124mHepatitis B virus\u001b[39m\u001b[38;5;124m'\u001b[39m]\n",
      "\u001b[0;31mNameError\u001b[0m: name 'cedar_data' is not defined"
     ]
    }
   ],
   "source": [
    "cedar_data = cedar_data[cedar_data['Organism'] == 'Homo sapiens (human)']\n",
    "cedar_data = cedar_data[cedar_data['Epitope_type'] == 'Linear peptide']\n",
    "cedar_data = cedar_data[cedar_data['Species'] == 'Hepatitis B virus']\n",
    "cedar_data = cedar_data[cedar_data['Number of Subjects Tested'] > 10]\n",
    "cedar_data = cedar_data[cedar_data['Response Frequency (%)'] == 100]\n",
    "cedar_data = cedar_data[cedar_data['MHC_Class'] == 'I']\n",
    "\n",
    "cedar_data = cedar_data.drop_duplicates(subset=['Epitope', 'MHC'])"
   ]
  },
  {
   "cell_type": "markdown",
   "id": "e91c6232-48d9-4a30-b378-689c9bc2e4b0",
   "metadata": {},
   "source": [
    "Printing the results, we get the following set of candidates:"
   ]
  },
  {
   "cell_type": "code",
   "execution_count": null,
   "id": "3b1125b1-e827-48ff-91b2-e241bd2aca7c",
   "metadata": {},
   "outputs": [],
   "source": [
    "cedar_data"
   ]
  },
  {
   "cell_type": "markdown",
   "id": "8c2aa462-7b74-4eb6-a651-6141b5734035",
   "metadata": {},
   "source": [
    "We randomly choose one of them, but we recommend that all c"
   ]
  },
  {
   "cell_type": "code",
   "execution_count": 7,
   "id": "0de45774-a4be-47b0-8537-1902f932e666",
   "metadata": {},
   "outputs": [],
   "source": [
    "cwd = os.getcwd()\n",
    "cwd_store_dict = cwd + \"/\"\n",
    "\n",
    "# Arguments for APE-Gen2.0\n",
    "peptide = \"WLSLLVPFV\"\n",
    "MHC = \"HLA-A*02:01\"\n",
    "no_of_conformations = 20\n",
    "\n",
    "store_dir = cwd_store_dict + \"CEDAR_dict\""
   ]
  },
  {
   "cell_type": "code",
   "execution_count": null,
   "id": "bd0db361-b2a3-47d9-9c47-bba27835813b",
   "metadata": {},
   "outputs": [],
   "source": [
    "os.chdir(\"../../data\")\n",
    "call(['python', 'New_APE-Gen.py', peptide, MHC, '--dir', store_dir, '--verbose', '--num_cores', '1', '--num_loops_for_optimization', str(no_of_conformations)])\n",
    "os.chdir(cwd)"
   ]
  },
  {
   "cell_type": "code",
   "execution_count": 19,
   "id": "195919cb-f8bc-4ade-a4ef-336da7c6a6ec",
   "metadata": {},
   "outputs": [],
   "source": [
    "dtype = {\"Peptide index\": str, \"Debug\": str, \"Affinity\": float}\n",
    "Apegen_res = pd.read_csv(\"./CEDAR_dict/successful_conformations_statistics.csv\", dtype=dtype)\n",
    "Apegen_res = Apegen_res.sort_values(by=\"Affinity\")\n",
    "Peptide_index = Apegen_res['Peptide index'].iloc[0]"
   ]
  },
  {
   "cell_type": "code",
   "execution_count": 21,
   "id": "f68bff1c-71dd-493a-892a-f1c5908c6029",
   "metadata": {},
   "outputs": [
    {
     "data": {
      "application/vnd.jupyter.widget-view+json": {
       "model_id": "af238607203f4174ab639ddfc61601bb",
       "version_major": 2,
       "version_minor": 0
      },
      "text/plain": [
       "NGLWidget()"
      ]
     },
     "metadata": {},
     "output_type": "display_data"
    }
   ],
   "source": [
    "view = nglview.show_file(\"./CEDAR_dict/results/5_final_conformations/pMHC_\" + Peptide_index + \".pdb\")\n",
    "view"
   ]
  },
  {
   "cell_type": "code",
   "execution_count": null,
   "id": "d7b209ba-f231-4fd1-b561-2df76f109d4e",
   "metadata": {},
   "outputs": [],
   "source": []
  }
 ],
 "metadata": {
  "kernelspec": {
   "display_name": "Python 3 (ipykernel)",
   "language": "python",
   "name": "python3"
  },
  "language_info": {
   "codemirror_mode": {
    "name": "ipython",
    "version": 3
   },
   "file_extension": ".py",
   "mimetype": "text/x-python",
   "name": "python",
   "nbconvert_exporter": "python",
   "pygments_lexer": "ipython3",
   "version": "3.11.9"
  }
 },
 "nbformat": 4,
 "nbformat_minor": 5
}
