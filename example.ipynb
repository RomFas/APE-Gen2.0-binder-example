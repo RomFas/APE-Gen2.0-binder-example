{
 "cells": [
  {
   "cell_type": "code",
   "execution_count": null,
   "id": "44b6f9b2-15bf-4969-acb7-26d3f43488e3",
   "metadata": {},
   "outputs": [],
   "source": []
  }
 ],
 "metadata": {
  "kernelspec": {
   "display_name": "",
   "name": ""
  },
  "language_info": {
   "name": ""
  }
 },
 "nbformat": 4,
 "nbformat_minor": 5
}
