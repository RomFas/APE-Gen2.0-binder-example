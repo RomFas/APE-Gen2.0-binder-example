{
 "cells": [
  {
   "cell_type": "code",
   "execution_count": 1,
   "id": "44b6f9b2-15bf-4969-acb7-26d3f43488e3",
   "metadata": {},
   "outputs": [],
   "source": [
    "import os\n",
    "\n",
    "from subprocess import call"
   ]
  },
  {
   "cell_type": "code",
   "execution_count": 2,
   "id": "d3b989ce-a96e-41cb-849c-f45dbcb03bcb",
   "metadata": {},
   "outputs": [],
   "source": [
    "cwd = os.getcwd()\n",
    "cwd_store_dict = cwd + \"/\""
   ]
  },
  {
   "cell_type": "code",
   "execution_count": 6,
   "id": "c3984da6-df8c-4f94-a871-c07c849ab2b3",
   "metadata": {},
   "outputs": [],
   "source": [
    "peptide = \"LAGIGILTV\"\n",
    "MHC = \"HLA-A*02:01\"\n",
    "num_cores = 1\n",
    "\n",
    "store_dir = cwd_store_dict + \"binder_dict_2\""
   ]
  },
  {
   "cell_type": "code",
   "execution_count": 7,
   "id": "5c0273fc-59c9-4678-b450-0ce7eb3fe90a",
   "metadata": {},
   "outputs": [
    {
     "name": "stderr",
     "output_type": "stream",
     "text": [
      "/mamba/envs/apegen/lib/python3.11/site-packages/Bio/pairwise2.py:278: BiopythonDeprecationWarning: Bio.pairwise2 has been deprecated, and we intend to remove it in a future release of Biopython. As an alternative, please consider using Bio.Align.PairwiseAligner as a replacement, and contact the Biopython developers if you still need the Bio.pairwise2 module.\n",
      "  warnings.warn(\n"
     ]
    },
    {
     "name": "stdout",
     "output_type": "stream",
     "text": [
      "Warning: use \"from pymol import cmd\" instead of \"import cmd\"\n",
      "Start of APE-Gen\n",
      "Initializing receptor\n",
      "\n",
      "Processing Receptor Input: HLA-A*02:01\n",
      "Allotype found in our structural DB!\n",
      "Will try to get the one that is closer to the peptide_input:\n",
      "\tGot 2GTW.pdb!\n",
      "\tPeptide is LAGIGILTV\n",
      "\tMHC is HLA-A*02:01\n",
      "\n",
      "Processing Peptide Input: LAGIGILTV\n",
      "Determining anchors for given peptide sequence and allele allotype\n",
      "Receptor allotype has a SMM matrix!\n",
      "Predicted anchors for the peptide:  1,9\n",
      "   pdb_code     peptide  ... Peptide_similarity  Similarity_score\n",
      "3  1JF1.pdb  ELAGIGILTV  ...                1.0               1.0\n",
      "\n",
      "[1 rows x 6 columns]\n",
      "\n",
      "Receptor Successfully Processed\n",
      "    Receptor Allotype: HLA-A*02:01\n",
      "    Receptor Template: ./new_templates_final/2GTW.pdb\n",
      "\n",
      "Peptide Successfully Processed\n",
      "    Peptide Sequence:\n",
      "        LAGIGILTV\n",
      "    Peptide PTMs:\n",
      "        []\n"
     ]
    },
    {
     "name": "stderr",
     "output_type": "stream",
     "text": [
      "100%|██████████| 1/1 [00:02<00:00,  9.98it/s]\n"
     ]
    },
    {
     "name": "stdout",
     "output_type": "stream",
     "text": [
      "Scoring the sampled loops...\n",
      "Preparing receptor sans peptide for scoring (generate receptor.pdbqt)\n",
      "Performing peptide refinement and scoring. This may take a while...\n"
     ]
    },
    {
     "name": "stderr",
     "output_type": "stream",
     "text": [
      "100%|██████████| 100/100 [00:37<00:00,  2.95it/s]\n"
     ]
    },
    {
     "name": "stdout",
     "output_type": "stream",
     "text": [
      "\n",
      "\n",
      "End of main workflow !!!\n",
      "Total number of overall conformations: 72\n",
      "\n",
      "Analytics:\n",
      "|   Peptide index | Debug                |   Affinity |\n",
      "|----------------:|:---------------------|-----------:|\n",
      "|            0000 | Successfully Modeled |   -65.9202 |\n",
      "|            0001 | Successfully Modeled |   -65.8352 |\n",
      "|            0002 | Successfully Modeled |   -66.0123 |\n",
      "|            0003 | Successfully Modeled |   -65.9599 |\n",
      "|            0004 | Successfully Modeled |   -65.9055 |\n",
      "|            0005 | Successfully Modeled |   -65.8788 |\n",
      "|            0006 | Successfully Modeled |   -65.9034 |\n",
      "|            0007 | Successfully Modeled |   -65.9473 |\n",
      "|            0008 | Successfully Modeled |   -65.9219 |\n",
      "|            0009 | Successfully Modeled |   -65.8765 |\n",
      "|            0010 | Successfully Modeled |   -66.0097 |\n",
      "|            0011 | Successfully Modeled |   -65.9749 |\n",
      "|            0012 | Successfully Modeled |   -65.892  |\n",
      "|            0013 | Successfully Modeled |   -65.886  |\n",
      "|            0014 | Successfully Modeled |   -65.9674 |\n",
      "|            0015 | Successfully Modeled |   -65.8667 |\n",
      "|            0016 | Successfully Modeled |   -65.9603 |\n",
      "|            0017 | Successfully Modeled |   -66.0006 |\n",
      "|            0018 | Successfully Modeled |   -65.9683 |\n",
      "|            0019 | Successfully Modeled |   -65.9402 |\n",
      "|            0020 | Successfully Modeled |   -58.2999 |\n",
      "|            0021 | Successfully Modeled |   -55.6988 |\n",
      "|            0023 | Successfully Modeled |   -59.3738 |\n",
      "|            0024 | Successfully Modeled |   -56.9486 |\n",
      "|            0025 | Successfully Modeled |   -56.8328 |\n",
      "|            0027 | Successfully Modeled |   -58.4163 |\n",
      "|            0028 | Successfully Modeled |   -56.6582 |\n",
      "|            0029 | Successfully Modeled |   -55.4672 |\n",
      "|            0030 | Successfully Modeled |   -55.7114 |\n",
      "|            0031 | Successfully Modeled |   -57.5048 |\n",
      "|            0032 | Successfully Modeled |   -59.6656 |\n",
      "|            0033 | Successfully Modeled |   -57.3777 |\n",
      "|            0034 | Successfully Modeled |   -57.1659 |\n",
      "|            0035 | Successfully Modeled |   -59.8271 |\n",
      "|            0036 | Successfully Modeled |   -61.103  |\n",
      "|            0037 | Successfully Modeled |   -52.6681 |\n",
      "|            0038 | Successfully Modeled |   -57.7866 |\n",
      "|            0039 | Successfully Modeled |   -55.9577 |\n",
      "|            0040 | Successfully Modeled |   -56.6421 |\n",
      "|            0042 | Successfully Modeled |   -56.8424 |\n",
      "|            0043 | Successfully Modeled |   -55.0367 |\n",
      "|            0045 | Successfully Modeled |   -57.5009 |\n",
      "|            0047 | Successfully Modeled |   -56.5778 |\n",
      "|            0048 | Successfully Modeled |   -55.6849 |\n",
      "|            0050 | Successfully Modeled |   -53.7176 |\n",
      "|            0051 | Successfully Modeled |   -57.5979 |\n",
      "|            0052 | Successfully Modeled |   -57.2682 |\n",
      "|            0054 | Successfully Modeled |   -55.3284 |\n",
      "|            0056 | Successfully Modeled |   -57.1726 |\n",
      "|            0059 | Successfully Modeled |   -57.5521 |\n",
      "|            0060 | Successfully Modeled |   -51.6321 |\n",
      "|            0061 | Successfully Modeled |   -59.5701 |\n",
      "|            0069 | Successfully Modeled |   -57.0132 |\n",
      "|            0070 | Successfully Modeled |   -54.9684 |\n",
      "|            0072 | Successfully Modeled |   -57.3847 |\n",
      "|            0073 | Successfully Modeled |   -58.1347 |\n",
      "|            0074 | Successfully Modeled |   -53.5695 |\n",
      "|            0075 | Successfully Modeled |   -57.6196 |\n",
      "|            0076 | Successfully Modeled |   -56.7566 |\n",
      "|            0079 | Successfully Modeled |   -57.0105 |\n",
      "|            0081 | Successfully Modeled |   -60.3118 |\n",
      "|            0082 | Successfully Modeled |   -56.9883 |\n",
      "|            0083 | Successfully Modeled |   -58.3886 |\n",
      "|            0084 | Successfully Modeled |   -59.2128 |\n",
      "|            0085 | Successfully Modeled |   -58.5215 |\n",
      "|            0087 | Successfully Modeled |   -55.7362 |\n",
      "|            0091 | Successfully Modeled |   -55.9028 |\n",
      "|            0092 | Successfully Modeled |   -56.7708 |\n",
      "|            0093 | Successfully Modeled |   -55.1266 |\n",
      "|            0095 | Successfully Modeled |   -53.7158 |\n",
      "|            0096 | Successfully Modeled |   -58.5274 |\n",
      "|            0098 | Successfully Modeled |   -56.3276 |\n",
      "\n",
      "Storing best conformation no. 0002 with Affinity = -66.0122986\n",
      "\n",
      "\n",
      "End of APE-Gen\n",
      "check_lice_E> Invalid license key: XXXX\n",
      "Go to https://salilab.org/modeller/ to get a license key,\n",
      "and then set the 'license' variable to it in the file\n",
      "/mamba/envs/apegen/lib/modeller-10.5/modlib/modeller/config.py\n",
      "\n"
     ]
    }
   ],
   "source": [
    "os.chdir(\"../../data\")\n",
    "call(['python', 'New_APE-Gen.py', peptide, MHC, '--dir', store_dir, '--verbose'])\n",
    "os.chdir(cwd)"
   ]
  },
  {
   "cell_type": "code",
   "execution_count": null,
   "id": "4e68ec99-9d2e-4f33-8ba5-2091640d7100",
   "metadata": {},
   "outputs": [],
   "source": []
  }
 ],
 "metadata": {
  "kernelspec": {
   "display_name": "Python 3 (ipykernel)",
   "language": "python",
   "name": "python3"
  },
  "language_info": {
   "codemirror_mode": {
    "name": "ipython",
    "version": 3
   },
   "file_extension": ".py",
   "mimetype": "text/x-python",
   "name": "python",
   "nbconvert_exporter": "python",
   "pygments_lexer": "ipython3",
   "version": "3.11.9"
  }
 },
 "nbformat": 4,
 "nbformat_minor": 5
}
