{
 "cells": [
  {
   "cell_type": "markdown",
   "id": "5b4e776d-ecbe-46f0-9436-15db50a4bd5d",
   "metadata": {},
   "source": [
    "# Basic example of using APE-Gen2.0"
   ]
  },
  {
   "cell_type": "markdown",
   "id": "9f488391-d117-43b8-900d-dadc400120db",
   "metadata": {},
   "source": [
    "Here, we set up an example on how to use APE-Gen2.0 on the binder notebook!"
   ]
  },
  {
   "cell_type": "markdown",
   "id": "a8b7299f-c1bf-4121-85bd-5cd5c540279f",
   "metadata": {},
   "source": [
    "First, making the necessary import to run the workflow:"
   ]
  },
  {
   "cell_type": "code",
   "execution_count": 1,
   "id": "44b6f9b2-15bf-4969-acb7-26d3f43488e3",
   "metadata": {},
   "outputs": [
    {
     "data": {
      "application/vnd.jupyter.widget-view+json": {
       "model_id": "5a6012915d8a492c964bc67b6b64e3f8",
       "version_major": 2,
       "version_minor": 0
      },
      "text/plain": []
     },
     "metadata": {},
     "output_type": "display_data"
    }
   ],
   "source": [
    "import os\n",
    "import pandas as pd\n",
    "from subprocess import call\n",
    "import nglview"
   ]
  },
  {
   "cell_type": "markdown",
   "id": "754f0fbf-fc9a-4481-9eb2-753efb0a8430",
   "metadata": {},
   "source": [
    "Setting up the directories for storage and operation (you should not ideally mess with any of these values):"
   ]
  },
  {
   "cell_type": "code",
   "execution_count": 2,
   "id": "d3b989ce-a96e-41cb-849c-f45dbcb03bcb",
   "metadata": {},
   "outputs": [],
   "source": [
    "cwd = os.getcwd()\n",
    "cwd_store_dict = cwd + \"/\"\n",
    "store_dir = cwd_store_dict + \"binder_dict\""
   ]
  },
  {
   "cell_type": "markdown",
   "id": "7581fc66-e2d9-4fda-988f-942c07540a22",
   "metadata": {},
   "source": [
    "This section contains the arguments given to APE-Gen2.0. Here, we pass a peptide exhibiting a non-canonical geometry, namely, an anchor at position 1. The number of generated conformations is set to 20 for a reasonable, single-core execution time: "
   ]
  },
  {
   "cell_type": "code",
   "execution_count": 3,
   "id": "c3984da6-df8c-4f94-a871-c07c849ab2b3",
   "metadata": {},
   "outputs": [],
   "source": [
    "peptide = \"LAGIGILTV\"\n",
    "MHC = \"HLA-A*02:01\"\n",
    "no_of_conformations = 20"
   ]
  },
  {
   "cell_type": "markdown",
   "id": "64bf6e30-1b15-44f5-966d-72bbf51e2398",
   "metadata": {},
   "source": [
    "Calling APE-Gen2.0 here! CAUTION: DO NOT INCREASE THE NUMBER OF CORES, BINDER ONLY ALLOWS FOR 1!:"
   ]
  },
  {
   "cell_type": "code",
   "execution_count": null,
   "id": "5c0273fc-59c9-4678-b450-0ce7eb3fe90a",
   "metadata": {},
   "outputs": [],
   "source": [
    "os.chdir(\"../../data\")\n",
    "call(['python', 'New_APE-Gen.py', peptide, MHC, '--dir', store_dir, '--verbose', '--num_cores', '1', '--num_loops_for_optimization', str(no_of_conformations)])\n",
    "os.chdir(cwd)"
   ]
  },
  {
   "cell_type": "markdown",
   "id": "b374a2f5-aab9-487f-b6e9-750aed2d011f",
   "metadata": {},
   "source": [
    "Fetching the top resulting conformation and visualizing the 3D pMHC complex:"
   ]
  },
  {
   "cell_type": "code",
   "execution_count": 7,
   "id": "4e68ec99-9d2e-4f33-8ba5-2091640d7100",
   "metadata": {},
   "outputs": [],
   "source": [
    "dtype = {\"Peptide index\": str, \"Debug\": str, \"Affinity\": float}\n",
    "Apegen_res = pd.read_csv(\"./binder_dict/successful_conformations_statistics.csv\", dtype=dtype)\n",
    "Apegen_res = Apegen_res.sort_values(by=\"Affinity\")\n",
    "Peptide_index = Apegen_res['Peptide index'].iloc[0]"
   ]
  },
  {
   "cell_type": "code",
   "execution_count": 8,
   "id": "df360bd5-14a6-4d29-9fe5-c8de9d0e5f08",
   "metadata": {},
   "outputs": [
    {
     "data": {
      "application/vnd.jupyter.widget-view+json": {
       "model_id": "4ed93d3ea8764a45985199ed7821154c",
       "version_major": 2,
       "version_minor": 0
      },
      "text/plain": [
       "NGLWidget()"
      ]
     },
     "metadata": {},
     "output_type": "display_data"
    }
   ],
   "source": [
    "view = nglview.show_file(\"binder_dict/results/5_final_conformations/pMHC_\" + Peptide_index + \".pdb\")\n",
    "view"
   ]
  }
 ],
 "metadata": {
  "kernelspec": {
   "display_name": "Python 3 (ipykernel)",
   "language": "python",
   "name": "python3"
  },
  "language_info": {
   "codemirror_mode": {
    "name": "ipython",
    "version": 3
   },
   "file_extension": ".py",
   "mimetype": "text/x-python",
   "name": "python",
   "nbconvert_exporter": "python",
   "pygments_lexer": "ipython3",
   "version": "3.11.9"
  }
 },
 "nbformat": 4,
 "nbformat_minor": 5
}
